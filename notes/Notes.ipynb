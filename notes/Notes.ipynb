{
 "cells": [
  {
   "cell_type": "markdown",
   "metadata": {},
   "source": [
    "# SpaceTrek\n",
    "\n",
    "Changed name to spacetrek from spaceinvaders."
   ]
  },
  {
   "cell_type": "markdown",
   "metadata": {},
   "source": [
    "## The core mechanic\n",
    "\n",
    "I will now shift the mechanic to a more \"messaging\" based service"
   ]
  }
 ],
 "metadata": {
  "kernelspec": {
   "display_name": "Python 2",
   "language": "python",
   "name": "python2"
  },
  "language_info": {
   "codemirror_mode": {
    "name": "ipython",
    "version": 2
   },
   "file_extension": ".py",
   "mimetype": "text/x-python",
   "name": "python",
   "nbconvert_exporter": "python",
   "pygments_lexer": "ipython2",
   "version": "2.7.12"
  }
 },
 "nbformat": 4,
 "nbformat_minor": 1
}
