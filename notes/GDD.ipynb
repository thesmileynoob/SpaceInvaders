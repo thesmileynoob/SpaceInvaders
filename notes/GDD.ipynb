{
 "cells": [
  {
   "cell_type": "markdown",
   "metadata": {},
   "source": [
    "# SpaceTrek - Game Design Document"
   ]
  },
  {
   "cell_type": "markdown",
   "metadata": {},
   "source": [
    "### About\n",
    "The purpose of this document other than, of course being a GDD for SpaceTrek, is to teach myself the value of planning, design, process, implementation and documentation."
   ]
  },
  {
   "cell_type": "markdown",
   "metadata": {},
   "source": [
    "### Why create SpaceTrek?\n",
    "<p>SpaceTrek is my first \"real\" project. It's by no means even a medium scale project. The primary motive behind creating SpaceTrek was getting to know how large, complex programs like video games, are written and architected. The gears and components under the hood of such programs have largely eluded me even though I've been playing video games for more than a decade. This project, hopefully, will serve as a glimpse into the facinating world of digital complexity that drives almost everything in the real world.\n",
    "<p>Also I get to make my own game! Which by itself is enough of a push to get me doing this."
   ]
  },
  {
   "cell_type": "markdown",
   "metadata": {},
   "source": [
    "### What is SpaceTrek?\n",
    "SpaceTrek is a 2D, top down, arcade space shooter inspired by Sky Force."
   ]
  },
  {
   "cell_type": "markdown",
   "metadata": {},
   "source": [
    "### Under the hood\n",
    "#### Python 3.6\n",
    "<p> I wanted to learn C++ specifically so that I could make \"real\" programs. But I didn't really have the time to learn to program a game *and* learn a new language. So, I choose Python. Simply because of my familarity with the language and to keep the knife sharp, so to speak. I also thought of making it in Javascript, but nodejs was not something I was well versed with (and it isn't a browser game.) Also I was following 3.6 for a couple of months leading up to it's release December 2016, and it served as a huge impetus. I've only worked on Python 2.7 before, so this also served as an opportunity to get into Python 3.</p>\n",
    "\n",
    "#### Pygame 1.9.2\n",
    "<p> Pygame had many tutorials on youtube. Also, I was not aware of other options that had such support. Coincidentally, 1.9.2 was released in [December 2016](https://pypi.python.org/pypi/Pygame) as well, which certainly got me excited (1.9.1 was released in August 2009! as per the [website](http://www.pygame.org/download.shtml)"
   ]
  }
 ],
 "metadata": {
  "kernelspec": {
   "display_name": "Python 3",
   "language": "python",
   "name": "python3"
  },
  "language_info": {
   "codemirror_mode": {
    "name": "ipython",
    "version": 3
   },
   "file_extension": ".py",
   "mimetype": "text/x-python",
   "name": "python",
   "nbconvert_exporter": "python",
   "pygments_lexer": "ipython3",
   "version": "3.6.0"
  }
 },
 "nbformat": 4,
 "nbformat_minor": 2
}
